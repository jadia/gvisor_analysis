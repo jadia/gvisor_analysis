{
 "cells": [
  {
   "cell_type": "code",
   "execution_count": 2,
   "metadata": {},
   "outputs": [],
   "source": [
    "import numpy as np\n",
    "import statistics\n",
    "import sys\n",
    "import matplotlib.pyplot as plt\n",
    "import csv"
   ]
  },
  {
   "cell_type": "code",
   "execution_count": 4,
   "metadata": {},
   "outputs": [],
   "source": [
    "\n",
    "results = {}\n",
    "\n",
    "# Grab data and put into dictionary\n",
    "with open('network.csv') as f:\n",
    "    csv_reader = csv.reader(f, delimiter=',')\n",
    "    for row in csv_reader:\n",
    "        if (row[0] not in results):\n",
    "            results[row[0]] = {}\n",
    "        if (row[1] not in results[row[0]]):\n",
    "            results[row[0]][row[1]] = []\n",
    "                \n",
    "        results[row[0]][row[1]].append(float(row[2]))\n"
   ]
  },
  {
   "cell_type": "code",
   "execution_count": 5,
   "metadata": {},
   "outputs": [
    {
     "name": "stdout",
     "output_type": "stream",
     "text": [
      "{'bare': [310.96944725180754, 307.48694189438476, 298.33484925971675, 292.98780314848284], 'runc': [336.84210526315786, 293.2873849763537, 292.54949571780674, 289.52358893440845], 'runsc_ptrace': [263.3311389071758, 230.40811036548484, 269.2152375824472, 279.7564719911317], 'runsc_kvm': [245.77572964669739, 209.48440650449083, 251.06388320508154, 213.99185760981794], 'kata': [287.76978417266184, 283.1056691910255, 288.7148579883792, 290.25259231846513]}\n"
     ]
    }
   ],
   "source": [
    "\n",
    "# Calculate mean throughput for each\n",
    "def throughput(data, size):\n",
    "    # print(\"size:\" + str(int(size)/1000000) + \" time:\" + str(data))\n",
    "    # return 8*int(size)/(data *1000000) # GB/s\n",
    "    # print(\"size:\" + str(size) + \" time:\" + str(data))\n",
    "    return 8*int(size)/(data) # Mb/s\n",
    "\n",
    "averages = {}\n",
    "for platform in results:\n",
    "    if (platform not in averages):\n",
    "        averages[platform] = {}\n",
    "\n",
    "    for size in results[platform]:\n",
    "        averages[platform][size] = throughput(statistics.mean(results[platform][size]), size)\n",
    "\n",
    "# Sort keys inorder of size\n",
    "def sort_keys(mydict):\n",
    "        mylist = []\n",
    "\n",
    "        keylist = sorted(mydict.keys(), key=int)\n",
    "        for key in keylist:\n",
    "                mylist.append(mydict[key])\n",
    "        return mylist\n",
    "\n",
    "for platform in averages:\n",
    "        averages[platform] = sort_keys(averages[platform])\n",
    "\n",
    "\n",
    "print(averages)\n",
    "# exit(1)"
   ]
  },
  {
   "cell_type": "code",
   "execution_count": 21,
   "metadata": {},
   "outputs": [
    {
     "data": {
      "image/png": "[encoded data removed]",
      "text/plain": [
       "<Figure size 612x540 with 1 Axes>"
      ]
     },
     "metadata": {
      "needs_background": "light"
     },
     "output_type": "display_data"
    }
   ],
   "source": [
    "\n",
    "if (True):\n",
    "    plt.rc('font', family='serif')\n",
    "    plt.rc('xtick', labelsize='x-small')\n",
    "    plt.rc('ytick', labelsize='x-small')\n",
    "#     fig = plt.figure(figsize=(3.5, 2.5))\n",
    "    fig = plt.figure(figsize=(8.5, 7.5))\n",
    "    ax = fig.add_subplot(1, 1, 1)\n",
    "    n_groups = 4\n",
    "\n",
    "    # create plot\n",
    "    index = np.arange(n_groups)\n",
    "    bar_width = 0.15\n",
    "    opacity = 0.8\n",
    "    \n",
    "    rects1 = plt.bar(index + 0*bar_width, averages['bare'], bar_width,\n",
    "    alpha=opacity,\n",
    "#     color='0.1',\n",
    "    color='r',\n",
    "    label='bare')\n",
    "\n",
    "    rects2 = plt.bar(index + 1*bar_width, averages['runc'], bar_width,\n",
    "    alpha=opacity,\n",
    "    color='g',\n",
    "    label='runc')\n",
    "    \n",
    "    rects3 = plt.bar(index +  2*bar_width, averages['runsc_ptrace'], bar_width,\n",
    "    alpha=opacity,\n",
    "    color='b',\n",
    "    label='runsc_ptrace')\n",
    "    \n",
    "    rects3 = plt.bar(index + 3*bar_width, averages['runsc_kvm'], bar_width,\n",
    "    alpha=opacity,\n",
    "    color='m',\n",
    "    label='runsc_kvm')\n",
    "\n",
    "    rects4 = plt.bar(index + 4*bar_width, averages['kata'], bar_width,\n",
    "    alpha=opacity,\n",
    "    color='k',\n",
    "    label='kata')\n",
    "\n",
    "    plt.xlabel('Size of Download', fontsize=10)\n",
    "    plt.ylabel('Throughput (Mbps)', fontsize=10)\n",
    "    plt.xticks(index + 2*bar_width, (\"1MB\", \"10MB\", \"100MB\", \"1GB\"))\n",
    "    plt.xlim(left=-2*bar_width)\n",
    "    plt.legend(loc = 'upper right')\n",
    "    plt.legend(loc = 'upper right', frameon=False, prop={'size':10})\n",
    "    ax.tick_params(axis=u'both', which=u'both',length=0)     \n",
    "    plt.tight_layout()\n",
    "    plt.savefig('./network_throughput.png', format='png', dpi=1000)\n",
    "plt.show()\n"
   ]
  }
 ],
 "metadata": {
  "kernelspec": {
   "display_name": "Python 3",
   "language": "python",
   "name": "python3"
  },
  "language_info": {
   "codemirror_mode": {
    "name": "ipython",
    "version": 3
   },
   "file_extension": ".py",
   "mimetype": "text/x-python",
   "name": "python",
   "nbconvert_exporter": "python",
   "pygments_lexer": "ipython3",
   "version": "3.7.6"
  }
 },
 "nbformat": 4,
 "nbformat_minor": 4
}
